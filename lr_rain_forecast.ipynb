{
  "nbformat": 4,
  "nbformat_minor": 0,
  "metadata": {
    "Rmd_header": {
      "author": "Kumar Rahul",
      "date": "9 September 2016",
      "output": "word_document",
      "title": "Logistic Regression using Caret Package"
    },
    "kernelspec": {
      "display_name": "Python 3",
      "language": "python",
      "name": "python3"
    },
    "language_info": {
      "codemirror_mode": {
        "name": "ipython",
        "version": 3
      },
      "file_extension": ".py",
      "mimetype": "text/x-python",
      "name": "python",
      "nbconvert_exporter": "python",
      "pygments_lexer": "ipython3",
      "version": "3.7.3"
    },
    "colab": {
      "name": "lr_rain_forecast.ipynb",
      "provenance": [],
      "include_colab_link": true
    },
    "accelerator": "GPU"
  },
  "cells": [
    {
      "cell_type": "markdown",
      "metadata": {
        "id": "view-in-github",
        "colab_type": "text"
      },
      "source": [
        "<a href=\"https://colab.research.google.com/github/balams81/Rain/blob/master/lr_rain_forecast.ipynb\" target=\"_parent\"><img src=\"https://colab.research.google.com/assets/colab-badge.svg\" alt=\"Open In Colab\"/></a>"
      ]
    },
    {
      "cell_type": "markdown",
      "metadata": {
        "id": "bNPKl-ccVerU"
      },
      "source": [
        "## Rainforecasting using Logistic Regression(Machine Learning Approach\n",
        "\n",
        "Dr Balamurugan MS, VIT Chennai\n",
        "\n",
        "********************************************************************\n",
        "Datasets obtained from data.gov.in\n",
        "********************************************************************"
      ]
    },
    {
      "cell_type": "code",
      "metadata": {
        "id": "6XJLjQ3iVdVh",
        "colab": {
          "base_uri": "https://localhost:8080/",
          "height": 35
        },
        "outputId": "4da2be24-b068-40cc-f404-d8023a22c42b"
      },
      "source": [
        "import sys, os\n",
        "\n",
        "import os\n",
        "\n",
        "sys.executable\n",
        "\n",
        "os.getcwd()"
      ],
      "execution_count": 1,
      "outputs": [
        {
          "output_type": "execute_result",
          "data": {
            "application/vnd.google.colaboratory.intrinsic+json": {
              "type": "string"
            },
            "text/plain": [
              "'/content'"
            ]
          },
          "metadata": {},
          "execution_count": 1
        }
      ]
    },
    {
      "cell_type": "code",
      "metadata": {
        "id": "86Qvo4gDVdVv"
      },
      "source": [
        "import warnings\n",
        "warnings.filterwarnings(\"ignore\")"
      ],
      "execution_count": 2,
      "outputs": []
    },
    {
      "cell_type": "markdown",
      "metadata": {
        "id": "fFuKcL6KVdV2"
      },
      "source": [
        "We are going to use below mentioned libraries for **data import, processing and visulization**. As we progress, we will use other specific libraries for model building and evaluation. "
      ]
    },
    {
      "cell_type": "code",
      "metadata": {
        "Rmd_chunk_options": "libraries, echo=TRUE, message=FALSE, warning=FALSE",
        "autoscroll": false,
        "id": "H9mqf52zVdV4"
      },
      "source": [
        "import pandas as pd \n",
        "import numpy as np\n",
        "import seaborn as sn # visualization library based on matplotlib\n",
        "import matplotlib.pylab as plt\n",
        "\n",
        "#the output of plotting commands is displayed inline within Jupyter notebook\n",
        "%matplotlib inline "
      ],
      "execution_count": 3,
      "outputs": []
    },
    {
      "cell_type": "markdown",
      "metadata": {
        "id": "N3DhgeS5VdV_"
      },
      "source": [
        "\n",
        "## Data Import and Manipulation\n",
        "\n",
        "### Importing a data set\n"
      ]
    },
    {
      "cell_type": "markdown",
      "metadata": {
        "id": "YVYbzG2tVdWB"
      },
      "source": [
        "modify the ast_note_interactivity kernel option to see the value of multiple statements at once."
      ]
    },
    {
      "cell_type": "code",
      "metadata": {
        "id": "4PBgxuF4VdWI"
      },
      "source": [
        "from IPython.core.interactiveshell import InteractiveShell\n",
        "InteractiveShell.ast_node_interactivity = \"all\""
      ],
      "execution_count": 4,
      "outputs": []
    },
    {
      "cell_type": "code",
      "metadata": {
        "id": "AE-ALy_bZEkx",
        "colab": {
          "resources": {
            "http://localhost:8080/nbextensions/google.colab/files.js": {
              "data": "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",
              "ok": true,
              "headers": [
                [
                  "content-type",
                  "application/javascript"
                ]
              ],
              "status": 200,
              "status_text": ""
            }
          },
          "base_uri": "https://localhost:8080/",
          "height": 73
        },
        "outputId": "2ec2a210-b62c-4dda-cbc7-de16fb5d004c"
      },
      "source": [
        "from google.colab import files\n",
        "uploaded = files.upload()"
      ],
      "execution_count": 5,
      "outputs": [
        {
          "output_type": "display_data",
          "data": {
            "text/html": [
              "\n",
              "     <input type=\"file\" id=\"files-dc1624cb-0659-4026-85f4-b292333daf5e\" name=\"files[]\" multiple disabled\n",
              "        style=\"border:none\" />\n",
              "     <output id=\"result-dc1624cb-0659-4026-85f4-b292333daf5e\">\n",
              "      Upload widget is only available when the cell has been executed in the\n",
              "      current browser session. Please rerun this cell to enable.\n",
              "      </output>\n",
              "      <script src=\"/nbextensions/google.colab/files.js\"></script> "
            ],
            "text/plain": [
              "<IPython.core.display.HTML object>"
            ]
          },
          "metadata": {}
        },
        {
          "output_type": "stream",
          "name": "stdout",
          "text": [
            "Saving weche.csv to weche.csv\n"
          ]
        }
      ]
    },
    {
      "cell_type": "code",
      "metadata": {
        "Rmd_chunk_options": "readData, echo=TRUE,tidy=TRUE",
        "autoscroll": false,
        "scrolled": true,
        "id": "fxML4bmJVdWL",
        "colab": {
          "base_uri": "https://localhost:8080/",
          "height": 203
        },
        "outputId": "c83f9a4f-951d-4610-a293-5ac2b97937f4"
      },
      "source": [
        "raw_df = pd.read_csv( \"weche.csv\", \n",
        "                        sep = ',', na_values = ['', ' '])\n",
        "\n",
        "raw_df.columns = raw_df.columns.str.lower().str.replace(' ', '_')\n",
        "raw_df.head()"
      ],
      "execution_count": 6,
      "outputs": [
        {
          "output_type": "execute_result",
          "data": {
            "text/html": [
              "<div>\n",
              "<style scoped>\n",
              "    .dataframe tbody tr th:only-of-type {\n",
              "        vertical-align: middle;\n",
              "    }\n",
              "\n",
              "    .dataframe tbody tr th {\n",
              "        vertical-align: top;\n",
              "    }\n",
              "\n",
              "    .dataframe thead th {\n",
              "        text-align: right;\n",
              "    }\n",
              "</style>\n",
              "<table border=\"1\" class=\"dataframe\">\n",
              "  <thead>\n",
              "    <tr style=\"text-align: right;\">\n",
              "      <th></th>\n",
              "      <th>mint</th>\n",
              "      <th>maxt</th>\n",
              "      <th>rainfall</th>\n",
              "      <th>windd3</th>\n",
              "      <th>winds9</th>\n",
              "      <th>winds3</th>\n",
              "      <th>hum9</th>\n",
              "      <th>hum3</th>\n",
              "      <th>pres9</th>\n",
              "      <th>pres3</th>\n",
              "      <th>temp9</th>\n",
              "      <th>temp3</th>\n",
              "      <th>rain</th>\n",
              "      <th>riskmm</th>\n",
              "      <th>raint</th>\n",
              "    </tr>\n",
              "  </thead>\n",
              "  <tbody>\n",
              "    <tr>\n",
              "      <th>0</th>\n",
              "      <td>13.4</td>\n",
              "      <td>22.9</td>\n",
              "      <td>0.6</td>\n",
              "      <td>WNW</td>\n",
              "      <td>20</td>\n",
              "      <td>24</td>\n",
              "      <td>71</td>\n",
              "      <td>22</td>\n",
              "      <td>1007.7</td>\n",
              "      <td>1007.1</td>\n",
              "      <td>16.9</td>\n",
              "      <td>21.8</td>\n",
              "      <td>No</td>\n",
              "      <td>0.0</td>\n",
              "      <td>No</td>\n",
              "    </tr>\n",
              "    <tr>\n",
              "      <th>1</th>\n",
              "      <td>7.4</td>\n",
              "      <td>25.1</td>\n",
              "      <td>0.0</td>\n",
              "      <td>WSW</td>\n",
              "      <td>4</td>\n",
              "      <td>22</td>\n",
              "      <td>44</td>\n",
              "      <td>25</td>\n",
              "      <td>1010.6</td>\n",
              "      <td>1007.8</td>\n",
              "      <td>17.2</td>\n",
              "      <td>24.3</td>\n",
              "      <td>No</td>\n",
              "      <td>0.0</td>\n",
              "      <td>No</td>\n",
              "    </tr>\n",
              "    <tr>\n",
              "      <th>2</th>\n",
              "      <td>12.9</td>\n",
              "      <td>25.7</td>\n",
              "      <td>0.0</td>\n",
              "      <td>WSW</td>\n",
              "      <td>19</td>\n",
              "      <td>26</td>\n",
              "      <td>38</td>\n",
              "      <td>30</td>\n",
              "      <td>1007.6</td>\n",
              "      <td>1008.7</td>\n",
              "      <td>21.0</td>\n",
              "      <td>23.2</td>\n",
              "      <td>No</td>\n",
              "      <td>0.0</td>\n",
              "      <td>No</td>\n",
              "    </tr>\n",
              "    <tr>\n",
              "      <th>3</th>\n",
              "      <td>9.2</td>\n",
              "      <td>28.0</td>\n",
              "      <td>0.0</td>\n",
              "      <td>E</td>\n",
              "      <td>11</td>\n",
              "      <td>9</td>\n",
              "      <td>45</td>\n",
              "      <td>16</td>\n",
              "      <td>1017.6</td>\n",
              "      <td>1012.8</td>\n",
              "      <td>18.1</td>\n",
              "      <td>26.5</td>\n",
              "      <td>No</td>\n",
              "      <td>1.0</td>\n",
              "      <td>No</td>\n",
              "    </tr>\n",
              "    <tr>\n",
              "      <th>4</th>\n",
              "      <td>17.5</td>\n",
              "      <td>32.3</td>\n",
              "      <td>1.0</td>\n",
              "      <td>NW</td>\n",
              "      <td>7</td>\n",
              "      <td>20</td>\n",
              "      <td>82</td>\n",
              "      <td>33</td>\n",
              "      <td>1010.8</td>\n",
              "      <td>1006.0</td>\n",
              "      <td>17.8</td>\n",
              "      <td>29.7</td>\n",
              "      <td>No</td>\n",
              "      <td>0.2</td>\n",
              "      <td>No</td>\n",
              "    </tr>\n",
              "  </tbody>\n",
              "</table>\n",
              "</div>"
            ],
            "text/plain": [
              "   mint  maxt  rainfall windd3  winds9  ...  temp9  temp3  rain  riskmm  raint\n",
              "0  13.4  22.9       0.6    WNW      20  ...   16.9   21.8    No     0.0     No\n",
              "1   7.4  25.1       0.0    WSW       4  ...   17.2   24.3    No     0.0     No\n",
              "2  12.9  25.7       0.0    WSW      19  ...   21.0   23.2    No     0.0     No\n",
              "3   9.2  28.0       0.0      E      11  ...   18.1   26.5    No     1.0     No\n",
              "4  17.5  32.3       1.0     NW       7  ...   17.8   29.7    No     0.2     No\n",
              "\n",
              "[5 rows x 15 columns]"
            ]
          },
          "metadata": {},
          "execution_count": 6
        }
      ]
    },
    {
      "cell_type": "markdown",
      "metadata": {
        "id": "PCF7jDT0VdXH"
      },
      "source": [
        "\n",
        "### 2. Structure of the dataset\n",
        "\n"
      ]
    },
    {
      "cell_type": "code",
      "metadata": {
        "Rmd_chunk_options": "summarizeData, echo=TRUE,tidy=TRUE",
        "autoscroll": false,
        "scrolled": false,
        "id": "uCpkWAq_VdXI",
        "colab": {
          "base_uri": "https://localhost:8080/"
        },
        "outputId": "6a58fc59-aeca-43a7-ff79-a02ffd4686f2"
      },
      "source": [
        "raw_df.info()"
      ],
      "execution_count": 7,
      "outputs": [
        {
          "output_type": "stream",
          "name": "stdout",
          "text": [
            "<class 'pandas.core.frame.DataFrame'>\n",
            "RangeIndex: 123327 entries, 0 to 123326\n",
            "Data columns (total 15 columns):\n",
            " #   Column    Non-Null Count   Dtype  \n",
            "---  ------    --------------   -----  \n",
            " 0   mint      123327 non-null  float64\n",
            " 1   maxt      123327 non-null  float64\n",
            " 2   rainfall  123327 non-null  float64\n",
            " 3   windd3    123327 non-null  object \n",
            " 4   winds9    123327 non-null  int64  \n",
            " 5   winds3    123327 non-null  int64  \n",
            " 6   hum9      123327 non-null  int64  \n",
            " 7   hum3      123327 non-null  int64  \n",
            " 8   pres9     123327 non-null  float64\n",
            " 9   pres3     123327 non-null  float64\n",
            " 10  temp9     123327 non-null  float64\n",
            " 11  temp3     123327 non-null  float64\n",
            " 12  rain      123327 non-null  object \n",
            " 13  riskmm    123327 non-null  float64\n",
            " 14  raint     123327 non-null  object \n",
            "dtypes: float64(8), int64(4), object(3)\n",
            "memory usage: 14.1+ MB\n"
          ]
        }
      ]
    },
    {
      "cell_type": "code",
      "metadata": {
        "scrolled": true,
        "id": "9PwDJU74VdXL",
        "colab": {
          "base_uri": "https://localhost:8080/",
          "height": 502
        },
        "outputId": "4a53d1fa-0f57-4a1e-8670-48c0261cd1bc"
      },
      "source": [
        "raw_df.rain.value_counts()\n",
        "raw_df.raint.value_counts()\n",
        "#raw_df.describe(include='all').transpose()\n",
        "raw_df.describe().transpose()"
      ],
      "execution_count": 8,
      "outputs": [
        {
          "output_type": "execute_result",
          "data": {
            "text/plain": [
              "No     95856\n",
              "Yes    27471\n",
              "Name: rain, dtype: int64"
            ]
          },
          "metadata": {},
          "execution_count": 8
        },
        {
          "output_type": "execute_result",
          "data": {
            "text/plain": [
              "No     96129\n",
              "Yes    27198\n",
              "Name: raint, dtype: int64"
            ]
          },
          "metadata": {},
          "execution_count": 8
        },
        {
          "output_type": "execute_result",
          "data": {
            "text/html": [
              "<div>\n",
              "<style scoped>\n",
              "    .dataframe tbody tr th:only-of-type {\n",
              "        vertical-align: middle;\n",
              "    }\n",
              "\n",
              "    .dataframe tbody tr th {\n",
              "        vertical-align: top;\n",
              "    }\n",
              "\n",
              "    .dataframe thead th {\n",
              "        text-align: right;\n",
              "    }\n",
              "</style>\n",
              "<table border=\"1\" class=\"dataframe\">\n",
              "  <thead>\n",
              "    <tr style=\"text-align: right;\">\n",
              "      <th></th>\n",
              "      <th>count</th>\n",
              "      <th>mean</th>\n",
              "      <th>std</th>\n",
              "      <th>min</th>\n",
              "      <th>25%</th>\n",
              "      <th>50%</th>\n",
              "      <th>75%</th>\n",
              "      <th>max</th>\n",
              "    </tr>\n",
              "  </thead>\n",
              "  <tbody>\n",
              "    <tr>\n",
              "      <th>mint</th>\n",
              "      <td>123327.0</td>\n",
              "      <td>12.429076</td>\n",
              "      <td>6.318240</td>\n",
              "      <td>-8.2</td>\n",
              "      <td>7.9</td>\n",
              "      <td>12.2</td>\n",
              "      <td>17.0</td>\n",
              "      <td>33.9</td>\n",
              "    </tr>\n",
              "    <tr>\n",
              "      <th>maxt</th>\n",
              "      <td>123327.0</td>\n",
              "      <td>23.443210</td>\n",
              "      <td>6.935242</td>\n",
              "      <td>2.6</td>\n",
              "      <td>18.1</td>\n",
              "      <td>22.8</td>\n",
              "      <td>28.4</td>\n",
              "      <td>48.1</td>\n",
              "    </tr>\n",
              "    <tr>\n",
              "      <th>rainfall</th>\n",
              "      <td>123327.0</td>\n",
              "      <td>2.333121</td>\n",
              "      <td>8.499454</td>\n",
              "      <td>0.0</td>\n",
              "      <td>0.0</td>\n",
              "      <td>0.0</td>\n",
              "      <td>0.6</td>\n",
              "      <td>371.0</td>\n",
              "    </tr>\n",
              "    <tr>\n",
              "      <th>winds9</th>\n",
              "      <td>123327.0</td>\n",
              "      <td>14.372943</td>\n",
              "      <td>8.802453</td>\n",
              "      <td>0.0</td>\n",
              "      <td>7.0</td>\n",
              "      <td>13.0</td>\n",
              "      <td>20.0</td>\n",
              "      <td>87.0</td>\n",
              "    </tr>\n",
              "    <tr>\n",
              "      <th>winds3</th>\n",
              "      <td>123327.0</td>\n",
              "      <td>19.178371</td>\n",
              "      <td>8.620379</td>\n",
              "      <td>2.0</td>\n",
              "      <td>13.0</td>\n",
              "      <td>19.0</td>\n",
              "      <td>24.0</td>\n",
              "      <td>87.0</td>\n",
              "    </tr>\n",
              "    <tr>\n",
              "      <th>hum9</th>\n",
              "      <td>123327.0</td>\n",
              "      <td>68.317408</td>\n",
              "      <td>18.993111</td>\n",
              "      <td>0.0</td>\n",
              "      <td>57.0</td>\n",
              "      <td>69.0</td>\n",
              "      <td>82.0</td>\n",
              "      <td>100.0</td>\n",
              "    </tr>\n",
              "    <tr>\n",
              "      <th>hum3</th>\n",
              "      <td>123327.0</td>\n",
              "      <td>51.119285</td>\n",
              "      <td>20.635445</td>\n",
              "      <td>0.0</td>\n",
              "      <td>36.0</td>\n",
              "      <td>52.0</td>\n",
              "      <td>65.0</td>\n",
              "      <td>100.0</td>\n",
              "    </tr>\n",
              "    <tr>\n",
              "      <th>pres9</th>\n",
              "      <td>123327.0</td>\n",
              "      <td>1017.652331</td>\n",
              "      <td>7.095307</td>\n",
              "      <td>980.5</td>\n",
              "      <td>1013.0</td>\n",
              "      <td>1017.7</td>\n",
              "      <td>1022.4</td>\n",
              "      <td>1041.0</td>\n",
              "    </tr>\n",
              "    <tr>\n",
              "      <th>pres3</th>\n",
              "      <td>123327.0</td>\n",
              "      <td>1015.261556</td>\n",
              "      <td>7.017461</td>\n",
              "      <td>977.1</td>\n",
              "      <td>1010.5</td>\n",
              "      <td>1015.3</td>\n",
              "      <td>1020.0</td>\n",
              "      <td>1039.6</td>\n",
              "    </tr>\n",
              "    <tr>\n",
              "      <th>temp9</th>\n",
              "      <td>123327.0</td>\n",
              "      <td>17.194383</td>\n",
              "      <td>6.396267</td>\n",
              "      <td>-3.1</td>\n",
              "      <td>12.4</td>\n",
              "      <td>16.8</td>\n",
              "      <td>21.7</td>\n",
              "      <td>40.2</td>\n",
              "    </tr>\n",
              "    <tr>\n",
              "      <th>temp3</th>\n",
              "      <td>123327.0</td>\n",
              "      <td>21.931828</td>\n",
              "      <td>6.782977</td>\n",
              "      <td>1.7</td>\n",
              "      <td>16.8</td>\n",
              "      <td>21.3</td>\n",
              "      <td>26.6</td>\n",
              "      <td>46.7</td>\n",
              "    </tr>\n",
              "    <tr>\n",
              "      <th>riskmm</th>\n",
              "      <td>123327.0</td>\n",
              "      <td>2.294367</td>\n",
              "      <td>8.398115</td>\n",
              "      <td>0.0</td>\n",
              "      <td>0.0</td>\n",
              "      <td>0.0</td>\n",
              "      <td>0.6</td>\n",
              "      <td>371.0</td>\n",
              "    </tr>\n",
              "  </tbody>\n",
              "</table>\n",
              "</div>"
            ],
            "text/plain": [
              "             count         mean        std  ...     50%     75%     max\n",
              "mint      123327.0    12.429076   6.318240  ...    12.2    17.0    33.9\n",
              "maxt      123327.0    23.443210   6.935242  ...    22.8    28.4    48.1\n",
              "rainfall  123327.0     2.333121   8.499454  ...     0.0     0.6   371.0\n",
              "winds9    123327.0    14.372943   8.802453  ...    13.0    20.0    87.0\n",
              "winds3    123327.0    19.178371   8.620379  ...    19.0    24.0    87.0\n",
              "hum9      123327.0    68.317408  18.993111  ...    69.0    82.0   100.0\n",
              "hum3      123327.0    51.119285  20.635445  ...    52.0    65.0   100.0\n",
              "pres9     123327.0  1017.652331   7.095307  ...  1017.7  1022.4  1041.0\n",
              "pres3     123327.0  1015.261556   7.017461  ...  1015.3  1020.0  1039.6\n",
              "temp9     123327.0    17.194383   6.396267  ...    16.8    21.7    40.2\n",
              "temp3     123327.0    21.931828   6.782977  ...    21.3    26.6    46.7\n",
              "riskmm    123327.0     2.294367   8.398115  ...     0.0     0.6   371.0\n",
              "\n",
              "[12 rows x 8 columns]"
            ]
          },
          "metadata": {},
          "execution_count": 8
        }
      ]
    },
    {
      "cell_type": "markdown",
      "metadata": {
        "id": "LvMMCRywVdXS"
      },
      "source": [
        "### 2. Summarizing the dataset\n",
        "Create a new data frame and store the raw data copy. This is being done to have a copy of the raw data intact for further manipulation if needed. The *dropna()* function is used for row wise deletion of missing value. The axis = 0 means row-wise, 1 means column wise.\n"
      ]
    },
    {
      "cell_type": "code",
      "metadata": {
        "Rmd_chunk_options": "createDataCopy, echo=TRUE,tidy=TRUE",
        "autoscroll": false,
        "scrolled": true,
        "id": "GFOp-y4LVdXS",
        "colab": {
          "base_uri": "https://localhost:8080/"
        },
        "outputId": "28648549-306a-432b-ad84-2b41656af2ef"
      },
      "source": [
        "filter_df = raw_df.dropna(axis=0, how='any', thresh=None, \n",
        "                             subset=None, inplace=False)\n",
        "\n",
        "list(filter_df.columns )"
      ],
      "execution_count": 9,
      "outputs": [
        {
          "output_type": "execute_result",
          "data": {
            "text/plain": [
              "['mint',\n",
              " 'maxt',\n",
              " 'rainfall',\n",
              " 'windd3',\n",
              " 'winds9',\n",
              " 'winds3',\n",
              " 'hum9',\n",
              " 'hum3',\n",
              " 'pres9',\n",
              " 'pres3',\n",
              " 'temp9',\n",
              " 'temp3',\n",
              " 'rain',\n",
              " 'riskmm',\n",
              " 'raint']"
            ]
          },
          "metadata": {},
          "execution_count": 9
        }
      ]
    },
    {
      "cell_type": "markdown",
      "metadata": {
        "id": "ljUmbWqUVdXV"
      },
      "source": [
        "We will first start by printing the unique labels in categorical features"
      ]
    },
    {
      "cell_type": "code",
      "metadata": {
        "scrolled": true,
        "id": "y_Y4stbbVdXW",
        "colab": {
          "base_uri": "https://localhost:8080/"
        },
        "outputId": "8d44ddc4-ef8e-45fa-c281-4ce53e12a61a"
      },
      "source": [
        "numerical_features = ['mint', 'maxt', 'winds9', 'winds3', 'hum9', 'hum3','pres9','pres3','temp9','temp3']\n",
        "\n",
        "categorical_features = ['windd3','rain','raint']\n",
        "\n",
        "for f in categorical_features:\n",
        "    print(\"\\nThe unique labels in {} is {}\\n\".format(f, filter_df[f].unique()))\n",
        "    print(\"The values in {} is \\n{}\\n\".format(f,  filter_df[f].value_counts()))\n"
      ],
      "execution_count": 11,
      "outputs": [
        {
          "output_type": "stream",
          "name": "stdout",
          "text": [
            "\n",
            "The unique labels in windd3 is ['WNW' 'WSW' 'E' 'NW' 'W' 'SSE' 'ESE' 'ENE' 'NNW' 'SSW' 'SW' 'SE' 'N' 'S'\n",
            " 'NNE' 'NE']\n",
            "\n",
            "The values in windd3 is \n",
            "SE     9004\n",
            "S      8773\n",
            "W      8661\n",
            "WSW    8543\n",
            "SSE    8375\n",
            "SW     8357\n",
            "N      7841\n",
            "ESE    7598\n",
            "E      7527\n",
            "WNW    7506\n",
            "NE     7282\n",
            "SSW    7272\n",
            "ENE    7050\n",
            "NW     7045\n",
            "NNW    6741\n",
            "NNE    5752\n",
            "Name: windd3, dtype: int64\n",
            "\n",
            "\n",
            "The unique labels in rain is ['No' 'Yes']\n",
            "\n",
            "The values in rain is \n",
            "No     95856\n",
            "Yes    27471\n",
            "Name: rain, dtype: int64\n",
            "\n",
            "\n",
            "The unique labels in raint is ['No' 'Yes']\n",
            "\n",
            "The values in raint is \n",
            "No     96129\n",
            "Yes    27198\n",
            "Name: raint, dtype: int64\n",
            "\n"
          ]
        }
      ]
    },
    {
      "cell_type": "markdown",
      "metadata": {
        "id": "Gb8q99rIVdXa"
      },
      "source": [
        "We will use **groupby** function of pandas to get deeper insights. We will write a generic function to report the mean by any categorical variable."
      ]
    },
    {
      "cell_type": "code",
      "metadata": {
        "id": "0coPS75-VdXb"
      },
      "source": [
        "def group_by (categorical_features):\n",
        "    return filter_df.groupby(categorical_features).mean()\n",
        "\n"
      ],
      "execution_count": 12,
      "outputs": []
    },
    {
      "cell_type": "code",
      "metadata": {
        "id": "9FWlSa2IVdXe",
        "colab": {
          "base_uri": "https://localhost:8080/",
          "height": 821
        },
        "outputId": "93c6404f-e79e-4f68-b804-30845d89425c"
      },
      "source": [
        "group_by(\"rain\")\n",
        "group_by(\"raint\")\n",
        "group_by(\"windd3\")"
      ],
      "execution_count": 13,
      "outputs": [
        {
          "output_type": "execute_result",
          "data": {
            "text/html": [
              "<div>\n",
              "<style scoped>\n",
              "    .dataframe tbody tr th:only-of-type {\n",
              "        vertical-align: middle;\n",
              "    }\n",
              "\n",
              "    .dataframe tbody tr th {\n",
              "        vertical-align: top;\n",
              "    }\n",
              "\n",
              "    .dataframe thead th {\n",
              "        text-align: right;\n",
              "    }\n",
              "</style>\n",
              "<table border=\"1\" class=\"dataframe\">\n",
              "  <thead>\n",
              "    <tr style=\"text-align: right;\">\n",
              "      <th></th>\n",
              "      <th>mint</th>\n",
              "      <th>maxt</th>\n",
              "      <th>rainfall</th>\n",
              "      <th>winds9</th>\n",
              "      <th>winds3</th>\n",
              "      <th>hum9</th>\n",
              "      <th>hum3</th>\n",
              "      <th>pres9</th>\n",
              "      <th>pres3</th>\n",
              "      <th>temp9</th>\n",
              "      <th>temp3</th>\n",
              "      <th>riskmm</th>\n",
              "    </tr>\n",
              "    <tr>\n",
              "      <th>rain</th>\n",
              "      <th></th>\n",
              "      <th></th>\n",
              "      <th></th>\n",
              "      <th></th>\n",
              "      <th></th>\n",
              "      <th></th>\n",
              "      <th></th>\n",
              "      <th></th>\n",
              "      <th></th>\n",
              "      <th></th>\n",
              "      <th></th>\n",
              "      <th></th>\n",
              "    </tr>\n",
              "  </thead>\n",
              "  <tbody>\n",
              "    <tr>\n",
              "      <th>No</th>\n",
              "      <td>12.237189</td>\n",
              "      <td>24.309845</td>\n",
              "      <td>0.074316</td>\n",
              "      <td>13.874875</td>\n",
              "      <td>18.776373</td>\n",
              "      <td>64.675440</td>\n",
              "      <td>46.925785</td>\n",
              "      <td>1018.374121</td>\n",
              "      <td>1015.663809</td>\n",
              "      <td>17.532003</td>\n",
              "      <td>22.802098</td>\n",
              "      <td>1.299142</td>\n",
              "    </tr>\n",
              "    <tr>\n",
              "      <th>Yes</th>\n",
              "      <td>13.098639</td>\n",
              "      <td>20.419213</td>\n",
              "      <td>10.214888</td>\n",
              "      <td>16.110881</td>\n",
              "      <td>20.581086</td>\n",
              "      <td>81.025518</td>\n",
              "      <td>65.751884</td>\n",
              "      <td>1015.133752</td>\n",
              "      <td>1013.857954</td>\n",
              "      <td>16.016308</td>\n",
              "      <td>18.895148</td>\n",
              "      <td>5.767056</td>\n",
              "    </tr>\n",
              "  </tbody>\n",
              "</table>\n",
              "</div>"
            ],
            "text/plain": [
              "           mint       maxt   rainfall  ...      temp9      temp3    riskmm\n",
              "rain                                   ...                                \n",
              "No    12.237189  24.309845   0.074316  ...  17.532003  22.802098  1.299142\n",
              "Yes   13.098639  20.419213  10.214888  ...  16.016308  18.895148  5.767056\n",
              "\n",
              "[2 rows x 12 columns]"
            ]
          },
          "metadata": {},
          "execution_count": 13
        },
        {
          "output_type": "execute_result",
          "data": {
            "text/html": [
              "<div>\n",
              "<style scoped>\n",
              "    .dataframe tbody tr th:only-of-type {\n",
              "        vertical-align: middle;\n",
              "    }\n",
              "\n",
              "    .dataframe tbody tr th {\n",
              "        vertical-align: top;\n",
              "    }\n",
              "\n",
              "    .dataframe thead th {\n",
              "        text-align: right;\n",
              "    }\n",
              "</style>\n",
              "<table border=\"1\" class=\"dataframe\">\n",
              "  <thead>\n",
              "    <tr style=\"text-align: right;\">\n",
              "      <th></th>\n",
              "      <th>mint</th>\n",
              "      <th>maxt</th>\n",
              "      <th>rainfall</th>\n",
              "      <th>winds9</th>\n",
              "      <th>winds3</th>\n",
              "      <th>hum9</th>\n",
              "      <th>hum3</th>\n",
              "      <th>pres9</th>\n",
              "      <th>pres3</th>\n",
              "      <th>temp9</th>\n",
              "      <th>temp3</th>\n",
              "      <th>riskmm</th>\n",
              "    </tr>\n",
              "    <tr>\n",
              "      <th>raint</th>\n",
              "      <th></th>\n",
              "      <th></th>\n",
              "      <th></th>\n",
              "      <th></th>\n",
              "      <th></th>\n",
              "      <th></th>\n",
              "      <th></th>\n",
              "      <th></th>\n",
              "      <th></th>\n",
              "      <th></th>\n",
              "      <th></th>\n",
              "      <th></th>\n",
              "    </tr>\n",
              "  </thead>\n",
              "  <tbody>\n",
              "    <tr>\n",
              "      <th>No</th>\n",
              "      <td>12.140642</td>\n",
              "      <td>24.035066</td>\n",
              "      <td>1.262518</td>\n",
              "      <td>13.930354</td>\n",
              "      <td>18.745311</td>\n",
              "      <td>65.684133</td>\n",
              "      <td>46.199295</td>\n",
              "      <td>1018.584473</td>\n",
              "      <td>1016.112203</td>\n",
              "      <td>17.280740</td>\n",
              "      <td>22.637360</td>\n",
              "      <td>0.073843</td>\n",
              "    </tr>\n",
              "    <tr>\n",
              "      <th>Yes</th>\n",
              "      <td>13.448522</td>\n",
              "      <td>21.351342</td>\n",
              "      <td>6.117075</td>\n",
              "      <td>15.937238</td>\n",
              "      <td>20.708986</td>\n",
              "      <td>77.624494</td>\n",
              "      <td>68.508567</td>\n",
              "      <td>1014.357754</td>\n",
              "      <td>1012.255015</td>\n",
              "      <td>16.889161</td>\n",
              "      <td>19.438183</td>\n",
              "      <td>10.142617</td>\n",
              "    </tr>\n",
              "  </tbody>\n",
              "</table>\n",
              "</div>"
            ],
            "text/plain": [
              "            mint       maxt  rainfall  ...      temp9      temp3     riskmm\n",
              "raint                                  ...                                 \n",
              "No     12.140642  24.035066  1.262518  ...  17.280740  22.637360   0.073843\n",
              "Yes    13.448522  21.351342  6.117075  ...  16.889161  19.438183  10.142617\n",
              "\n",
              "[2 rows x 12 columns]"
            ]
          },
          "metadata": {},
          "execution_count": 13
        },
        {
          "output_type": "execute_result",
          "data": {
            "text/html": [
              "<div>\n",
              "<style scoped>\n",
              "    .dataframe tbody tr th:only-of-type {\n",
              "        vertical-align: middle;\n",
              "    }\n",
              "\n",
              "    .dataframe tbody tr th {\n",
              "        vertical-align: top;\n",
              "    }\n",
              "\n",
              "    .dataframe thead th {\n",
              "        text-align: right;\n",
              "    }\n",
              "</style>\n",
              "<table border=\"1\" class=\"dataframe\">\n",
              "  <thead>\n",
              "    <tr style=\"text-align: right;\">\n",
              "      <th></th>\n",
              "      <th>mint</th>\n",
              "      <th>maxt</th>\n",
              "      <th>rainfall</th>\n",
              "      <th>winds9</th>\n",
              "      <th>winds3</th>\n",
              "      <th>hum9</th>\n",
              "      <th>hum3</th>\n",
              "      <th>pres9</th>\n",
              "      <th>pres3</th>\n",
              "      <th>temp9</th>\n",
              "      <th>temp3</th>\n",
              "      <th>riskmm</th>\n",
              "    </tr>\n",
              "    <tr>\n",
              "      <th>windd3</th>\n",
              "      <th></th>\n",
              "      <th></th>\n",
              "      <th></th>\n",
              "      <th></th>\n",
              "      <th></th>\n",
              "      <th></th>\n",
              "      <th></th>\n",
              "      <th></th>\n",
              "      <th></th>\n",
              "      <th></th>\n",
              "      <th></th>\n",
              "      <th></th>\n",
              "    </tr>\n",
              "  </thead>\n",
              "  <tbody>\n",
              "    <tr>\n",
              "      <th>E</th>\n",
              "      <td>14.250352</td>\n",
              "      <td>25.243404</td>\n",
              "      <td>1.964674</td>\n",
              "      <td>13.916567</td>\n",
              "      <td>17.676631</td>\n",
              "      <td>67.209911</td>\n",
              "      <td>50.792082</td>\n",
              "      <td>1019.536535</td>\n",
              "      <td>1016.554816</td>\n",
              "      <td>19.030796</td>\n",
              "      <td>23.865391</td>\n",
              "      <td>2.212289</td>\n",
              "    </tr>\n",
              "    <tr>\n",
              "      <th>ENE</th>\n",
              "      <td>15.608128</td>\n",
              "      <td>26.550355</td>\n",
              "      <td>2.003504</td>\n",
              "      <td>13.027518</td>\n",
              "      <td>18.133617</td>\n",
              "      <td>65.997589</td>\n",
              "      <td>51.877305</td>\n",
              "      <td>1018.356440</td>\n",
              "      <td>1015.107163</td>\n",
              "      <td>20.683404</td>\n",
              "      <td>25.087702</td>\n",
              "      <td>2.505688</td>\n",
              "    </tr>\n",
              "    <tr>\n",
              "      <th>ESE</th>\n",
              "      <td>13.963675</td>\n",
              "      <td>24.848355</td>\n",
              "      <td>2.136510</td>\n",
              "      <td>14.521321</td>\n",
              "      <td>17.911161</td>\n",
              "      <td>65.810740</td>\n",
              "      <td>50.320347</td>\n",
              "      <td>1019.492024</td>\n",
              "      <td>1016.775428</td>\n",
              "      <td>18.767373</td>\n",
              "      <td>23.389839</td>\n",
              "      <td>2.254778</td>\n",
              "    </tr>\n",
              "    <tr>\n",
              "      <th>N</th>\n",
              "      <td>11.307512</td>\n",
              "      <td>23.534689</td>\n",
              "      <td>1.465209</td>\n",
              "      <td>15.222931</td>\n",
              "      <td>19.265782</td>\n",
              "      <td>69.317562</td>\n",
              "      <td>49.810993</td>\n",
              "      <td>1017.667326</td>\n",
              "      <td>1013.941086</td>\n",
              "      <td>16.340684</td>\n",
              "      <td>22.162530</td>\n",
              "      <td>2.786086</td>\n",
              "    </tr>\n",
              "    <tr>\n",
              "      <th>NE</th>\n",
              "      <td>14.805617</td>\n",
              "      <td>25.760368</td>\n",
              "      <td>1.526215</td>\n",
              "      <td>11.856083</td>\n",
              "      <td>18.594754</td>\n",
              "      <td>67.847981</td>\n",
              "      <td>54.468965</td>\n",
              "      <td>1018.500508</td>\n",
              "      <td>1014.939670</td>\n",
              "      <td>19.883851</td>\n",
              "      <td>24.218553</td>\n",
              "      <td>2.234098</td>\n",
              "    </tr>\n",
              "    <tr>\n",
              "      <th>NNE</th>\n",
              "      <td>13.268255</td>\n",
              "      <td>24.957284</td>\n",
              "      <td>1.564760</td>\n",
              "      <td>13.439673</td>\n",
              "      <td>17.792072</td>\n",
              "      <td>68.193672</td>\n",
              "      <td>52.525035</td>\n",
              "      <td>1018.334736</td>\n",
              "      <td>1014.559962</td>\n",
              "      <td>18.425748</td>\n",
              "      <td>23.458223</td>\n",
              "      <td>2.839239</td>\n",
              "    </tr>\n",
              "    <tr>\n",
              "      <th>NNW</th>\n",
              "      <td>10.522816</td>\n",
              "      <td>23.235306</td>\n",
              "      <td>1.693710</td>\n",
              "      <td>13.101172</td>\n",
              "      <td>18.415665</td>\n",
              "      <td>70.004895</td>\n",
              "      <td>48.053256</td>\n",
              "      <td>1016.688340</td>\n",
              "      <td>1013.272422</td>\n",
              "      <td>15.612832</td>\n",
              "      <td>21.913396</td>\n",
              "      <td>2.673921</td>\n",
              "    </tr>\n",
              "    <tr>\n",
              "      <th>NW</th>\n",
              "      <td>10.767665</td>\n",
              "      <td>23.184216</td>\n",
              "      <td>2.218737</td>\n",
              "      <td>13.512136</td>\n",
              "      <td>19.803974</td>\n",
              "      <td>68.668843</td>\n",
              "      <td>47.417601</td>\n",
              "      <td>1015.250987</td>\n",
              "      <td>1012.274223</td>\n",
              "      <td>15.919262</td>\n",
              "      <td>21.795884</td>\n",
              "      <td>2.594961</td>\n",
              "    </tr>\n",
              "    <tr>\n",
              "      <th>S</th>\n",
              "      <td>12.047190</td>\n",
              "      <td>21.675653</td>\n",
              "      <td>2.948433</td>\n",
              "      <td>15.756868</td>\n",
              "      <td>19.516699</td>\n",
              "      <td>70.796535</td>\n",
              "      <td>55.184429</td>\n",
              "      <td>1019.373635</td>\n",
              "      <td>1017.946609</td>\n",
              "      <td>16.030993</td>\n",
              "      <td>20.080953</td>\n",
              "      <td>2.389673</td>\n",
              "    </tr>\n",
              "    <tr>\n",
              "      <th>SE</th>\n",
              "      <td>13.880275</td>\n",
              "      <td>24.007319</td>\n",
              "      <td>2.455875</td>\n",
              "      <td>15.606619</td>\n",
              "      <td>19.398601</td>\n",
              "      <td>67.092737</td>\n",
              "      <td>52.545980</td>\n",
              "      <td>1019.389060</td>\n",
              "      <td>1017.119769</td>\n",
              "      <td>18.360618</td>\n",
              "      <td>22.489749</td>\n",
              "      <td>2.220224</td>\n",
              "    </tr>\n",
              "    <tr>\n",
              "      <th>SSE</th>\n",
              "      <td>12.906328</td>\n",
              "      <td>22.927809</td>\n",
              "      <td>2.779224</td>\n",
              "      <td>16.181015</td>\n",
              "      <td>19.418985</td>\n",
              "      <td>68.314388</td>\n",
              "      <td>53.627343</td>\n",
              "      <td>1019.384884</td>\n",
              "      <td>1017.562730</td>\n",
              "      <td>17.249540</td>\n",
              "      <td>21.341039</td>\n",
              "      <td>2.307128</td>\n",
              "    </tr>\n",
              "    <tr>\n",
              "      <th>SSW</th>\n",
              "      <td>11.340690</td>\n",
              "      <td>21.481216</td>\n",
              "      <td>3.256656</td>\n",
              "      <td>14.559681</td>\n",
              "      <td>18.595435</td>\n",
              "      <td>70.964521</td>\n",
              "      <td>53.587321</td>\n",
              "      <td>1018.332673</td>\n",
              "      <td>1017.134158</td>\n",
              "      <td>15.517987</td>\n",
              "      <td>19.835465</td>\n",
              "      <td>2.234296</td>\n",
              "    </tr>\n",
              "    <tr>\n",
              "      <th>SW</th>\n",
              "      <td>11.269152</td>\n",
              "      <td>21.975506</td>\n",
              "      <td>2.561781</td>\n",
              "      <td>14.084719</td>\n",
              "      <td>19.274022</td>\n",
              "      <td>68.097762</td>\n",
              "      <td>50.374417</td>\n",
              "      <td>1016.970994</td>\n",
              "      <td>1015.800359</td>\n",
              "      <td>15.970982</td>\n",
              "      <td>20.307036</td>\n",
              "      <td>1.715173</td>\n",
              "    </tr>\n",
              "    <tr>\n",
              "      <th>W</th>\n",
              "      <td>10.853885</td>\n",
              "      <td>22.020471</td>\n",
              "      <td>2.801778</td>\n",
              "      <td>14.893199</td>\n",
              "      <td>20.947466</td>\n",
              "      <td>68.439788</td>\n",
              "      <td>49.206096</td>\n",
              "      <td>1014.922434</td>\n",
              "      <td>1013.341162</td>\n",
              "      <td>15.779356</td>\n",
              "      <td>20.447523</td>\n",
              "      <td>1.951564</td>\n",
              "    </tr>\n",
              "    <tr>\n",
              "      <th>WNW</th>\n",
              "      <td>11.423941</td>\n",
              "      <td>22.979230</td>\n",
              "      <td>2.628724</td>\n",
              "      <td>14.460165</td>\n",
              "      <td>20.911937</td>\n",
              "      <td>68.424993</td>\n",
              "      <td>48.055422</td>\n",
              "      <td>1014.373355</td>\n",
              "      <td>1012.083333</td>\n",
              "      <td>16.402571</td>\n",
              "      <td>21.544378</td>\n",
              "      <td>2.443738</td>\n",
              "    </tr>\n",
              "    <tr>\n",
              "      <th>WSW</th>\n",
              "      <td>11.084970</td>\n",
              "      <td>22.024125</td>\n",
              "      <td>2.761969</td>\n",
              "      <td>14.485310</td>\n",
              "      <td>20.197823</td>\n",
              "      <td>67.871942</td>\n",
              "      <td>49.485895</td>\n",
              "      <td>1015.759042</td>\n",
              "      <td>1014.541414</td>\n",
              "      <td>15.925073</td>\n",
              "      <td>20.376097</td>\n",
              "      <td>1.715100</td>\n",
              "    </tr>\n",
              "  </tbody>\n",
              "</table>\n",
              "</div>"
            ],
            "text/plain": [
              "             mint       maxt  rainfall  ...      temp9      temp3    riskmm\n",
              "windd3                                  ...                                \n",
              "E       14.250352  25.243404  1.964674  ...  19.030796  23.865391  2.212289\n",
              "ENE     15.608128  26.550355  2.003504  ...  20.683404  25.087702  2.505688\n",
              "ESE     13.963675  24.848355  2.136510  ...  18.767373  23.389839  2.254778\n",
              "N       11.307512  23.534689  1.465209  ...  16.340684  22.162530  2.786086\n",
              "NE      14.805617  25.760368  1.526215  ...  19.883851  24.218553  2.234098\n",
              "NNE     13.268255  24.957284  1.564760  ...  18.425748  23.458223  2.839239\n",
              "NNW     10.522816  23.235306  1.693710  ...  15.612832  21.913396  2.673921\n",
              "NW      10.767665  23.184216  2.218737  ...  15.919262  21.795884  2.594961\n",
              "S       12.047190  21.675653  2.948433  ...  16.030993  20.080953  2.389673\n",
              "SE      13.880275  24.007319  2.455875  ...  18.360618  22.489749  2.220224\n",
              "SSE     12.906328  22.927809  2.779224  ...  17.249540  21.341039  2.307128\n",
              "SSW     11.340690  21.481216  3.256656  ...  15.517987  19.835465  2.234296\n",
              "SW      11.269152  21.975506  2.561781  ...  15.970982  20.307036  1.715173\n",
              "W       10.853885  22.020471  2.801778  ...  15.779356  20.447523  1.951564\n",
              "WNW     11.423941  22.979230  2.628724  ...  16.402571  21.544378  2.443738\n",
              "WSW     11.084970  22.024125  2.761969  ...  15.925073  20.376097  1.715100\n",
              "\n",
              "[16 rows x 12 columns]"
            ]
          },
          "metadata": {},
          "execution_count": 13
        }
      ]
    },
    {
      "cell_type": "markdown",
      "metadata": {
        "id": "5_JleOyyVdXi"
      },
      "source": [
        "## Model Building\n",
        "\n",
        "### Dummy Variable coding\n",
        "\n",
        "Remove the response variable from the dataset¶\n"
      ]
    },
    {
      "cell_type": "code",
      "metadata": {
        "id": "9n4hOIfbVdXj",
        "colab": {
          "base_uri": "https://localhost:8080/"
        },
        "outputId": "4aa41103-8c84-4c0b-d15f-c36eea448f01"
      },
      "source": [
        "list(filter_df.columns)"
      ],
      "execution_count": 14,
      "outputs": [
        {
          "output_type": "execute_result",
          "data": {
            "text/plain": [
              "['mint',\n",
              " 'maxt',\n",
              " 'rainfall',\n",
              " 'windd3',\n",
              " 'winds9',\n",
              " 'winds3',\n",
              " 'hum9',\n",
              " 'hum3',\n",
              " 'pres9',\n",
              " 'pres3',\n",
              " 'temp9',\n",
              " 'temp3',\n",
              " 'rain',\n",
              " 'riskmm',\n",
              " 'raint']"
            ]
          },
          "metadata": {},
          "execution_count": 14
        }
      ]
    },
    {
      "cell_type": "code",
      "metadata": {
        "id": "yyrcq4ehVdXm"
      },
      "source": [
        "X_features = list(filter_df.columns)\n",
        "X_features.remove('rainfall')\n",
        "X_features.remove('riskmm')\n",
        "X_features.remove('raint')"
      ],
      "execution_count": 15,
      "outputs": []
    },
    {
      "cell_type": "code",
      "metadata": {
        "scrolled": false,
        "id": "86cFEQ9LVdXp",
        "colab": {
          "base_uri": "https://localhost:8080/"
        },
        "outputId": "79d2a2c5-0eda-45bb-b5b0-b650edf6cca1"
      },
      "source": [
        "X_features"
      ],
      "execution_count": 16,
      "outputs": [
        {
          "output_type": "execute_result",
          "data": {
            "text/plain": [
              "['mint',\n",
              " 'maxt',\n",
              " 'windd3',\n",
              " 'winds9',\n",
              " 'winds3',\n",
              " 'hum9',\n",
              " 'hum3',\n",
              " 'pres9',\n",
              " 'pres3',\n",
              " 'temp9',\n",
              " 'temp3',\n",
              " 'rain']"
            ]
          },
          "metadata": {},
          "execution_count": 16
        }
      ]
    },
    {
      "cell_type": "code",
      "metadata": {
        "id": "lMBmxq6cVdXx"
      },
      "source": [
        "categorical_features = ['windd3','rain']"
      ],
      "execution_count": 17,
      "outputs": []
    },
    {
      "cell_type": "code",
      "metadata": {
        "id": "C2yvJ38cVdX5"
      },
      "source": [
        "#for i in categorical_features:\n",
        " #   if filter_df.dtypes.name = 'category'\n",
        "encoded_X_df = pd.get_dummies( filter_df[X_features], columns = categorical_features, drop_first = True )\n",
        "\n",
        "encoded_Y_df = pd.get_dummies( filter_df['raint'], drop_first=False)"
      ],
      "execution_count": 18,
      "outputs": []
    },
    {
      "cell_type": "code",
      "metadata": {
        "id": "1lC7KwgNVdX8",
        "colab": {
          "base_uri": "https://localhost:8080/",
          "height": 203
        },
        "outputId": "4b9d82eb-ef68-4807-fce7-90f9ea4f8a37"
      },
      "source": [
        "encoded_Y_df.head()"
      ],
      "execution_count": 19,
      "outputs": [
        {
          "output_type": "execute_result",
          "data": {
            "text/html": [
              "<div>\n",
              "<style scoped>\n",
              "    .dataframe tbody tr th:only-of-type {\n",
              "        vertical-align: middle;\n",
              "    }\n",
              "\n",
              "    .dataframe tbody tr th {\n",
              "        vertical-align: top;\n",
              "    }\n",
              "\n",
              "    .dataframe thead th {\n",
              "        text-align: right;\n",
              "    }\n",
              "</style>\n",
              "<table border=\"1\" class=\"dataframe\">\n",
              "  <thead>\n",
              "    <tr style=\"text-align: right;\">\n",
              "      <th></th>\n",
              "      <th>No</th>\n",
              "      <th>Yes</th>\n",
              "    </tr>\n",
              "  </thead>\n",
              "  <tbody>\n",
              "    <tr>\n",
              "      <th>0</th>\n",
              "      <td>1</td>\n",
              "      <td>0</td>\n",
              "    </tr>\n",
              "    <tr>\n",
              "      <th>1</th>\n",
              "      <td>1</td>\n",
              "      <td>0</td>\n",
              "    </tr>\n",
              "    <tr>\n",
              "      <th>2</th>\n",
              "      <td>1</td>\n",
              "      <td>0</td>\n",
              "    </tr>\n",
              "    <tr>\n",
              "      <th>3</th>\n",
              "      <td>1</td>\n",
              "      <td>0</td>\n",
              "    </tr>\n",
              "    <tr>\n",
              "      <th>4</th>\n",
              "      <td>1</td>\n",
              "      <td>0</td>\n",
              "    </tr>\n",
              "  </tbody>\n",
              "</table>\n",
              "</div>"
            ],
            "text/plain": [
              "   No  Yes\n",
              "0   1    0\n",
              "1   1    0\n",
              "2   1    0\n",
              "3   1    0\n",
              "4   1    0"
            ]
          },
          "metadata": {},
          "execution_count": 19
        }
      ]
    },
    {
      "cell_type": "code",
      "metadata": {
        "id": "PCJ2aEf2VdX_",
        "colab": {
          "base_uri": "https://localhost:8080/"
        },
        "outputId": "d3100413-4b40-4313-d593-292943afe6c5"
      },
      "source": [
        "pd.options.display.max_columns = None\n",
        "encoded_X_df.info()"
      ],
      "execution_count": 20,
      "outputs": [
        {
          "output_type": "stream",
          "name": "stdout",
          "text": [
            "<class 'pandas.core.frame.DataFrame'>\n",
            "Int64Index: 123327 entries, 0 to 123326\n",
            "Data columns (total 26 columns):\n",
            " #   Column      Non-Null Count   Dtype  \n",
            "---  ------      --------------   -----  \n",
            " 0   mint        123327 non-null  float64\n",
            " 1   maxt        123327 non-null  float64\n",
            " 2   winds9      123327 non-null  int64  \n",
            " 3   winds3      123327 non-null  int64  \n",
            " 4   hum9        123327 non-null  int64  \n",
            " 5   hum3        123327 non-null  int64  \n",
            " 6   pres9       123327 non-null  float64\n",
            " 7   pres3       123327 non-null  float64\n",
            " 8   temp9       123327 non-null  float64\n",
            " 9   temp3       123327 non-null  float64\n",
            " 10  windd3_ENE  123327 non-null  uint8  \n",
            " 11  windd3_ESE  123327 non-null  uint8  \n",
            " 12  windd3_N    123327 non-null  uint8  \n",
            " 13  windd3_NE   123327 non-null  uint8  \n",
            " 14  windd3_NNE  123327 non-null  uint8  \n",
            " 15  windd3_NNW  123327 non-null  uint8  \n",
            " 16  windd3_NW   123327 non-null  uint8  \n",
            " 17  windd3_S    123327 non-null  uint8  \n",
            " 18  windd3_SE   123327 non-null  uint8  \n",
            " 19  windd3_SSE  123327 non-null  uint8  \n",
            " 20  windd3_SSW  123327 non-null  uint8  \n",
            " 21  windd3_SW   123327 non-null  uint8  \n",
            " 22  windd3_W    123327 non-null  uint8  \n",
            " 23  windd3_WNW  123327 non-null  uint8  \n",
            " 24  windd3_WSW  123327 non-null  uint8  \n",
            " 25  rain_Yes    123327 non-null  uint8  \n",
            "dtypes: float64(6), int64(4), uint8(16)\n",
            "memory usage: 12.2 MB\n"
          ]
        }
      ]
    },
    {
      "cell_type": "code",
      "metadata": {
        "id": "Obccr36MVdYC",
        "colab": {
          "base_uri": "https://localhost:8080/"
        },
        "outputId": "9691f764-d1f6-4269-cd40-264454f11584"
      },
      "source": [
        "Y = encoded_Y_df.filter(['Yes'], axis =1)\n",
        "X = encoded_X_df\n",
        "Y.info()"
      ],
      "execution_count": 21,
      "outputs": [
        {
          "output_type": "stream",
          "name": "stdout",
          "text": [
            "<class 'pandas.core.frame.DataFrame'>\n",
            "Int64Index: 123327 entries, 0 to 123326\n",
            "Data columns (total 1 columns):\n",
            " #   Column  Non-Null Count   Dtype\n",
            "---  ------  --------------   -----\n",
            " 0   Yes     123327 non-null  uint8\n",
            "dtypes: uint8(1)\n",
            "memory usage: 1.1 MB\n"
          ]
        }
      ]
    },
    {
      "cell_type": "markdown",
      "metadata": {
        "id": "UkiXrnioVdYF"
      },
      "source": [
        "### Correlation amongst variable"
      ]
    },
    {
      "cell_type": "code",
      "metadata": {
        "id": "FNcU9KPUVdYG",
        "colab": {
          "base_uri": "https://localhost:8080/",
          "height": 601
        },
        "outputId": "bbcddf9e-fbc3-4e49-feb1-30f487651010"
      },
      "source": [
        "corr = filter_df.filter(numerical_features).corr(method='pearson')\n",
        "\n",
        "# Generate a mask for the upper triangle\n",
        "mask = np.zeros_like(corr, dtype=np.bool)\n",
        "mask[np.triu_indices_from(mask)] = True\n",
        "\n",
        "# Set up the matplotlib figure\n",
        "f, ax = plt.subplots(figsize=(12, 12))\n",
        "\n",
        "# Generate a custom diverging colormap\n",
        "cmap = sn.diverging_palette(255, 150, as_cmap=True)\n",
        "\n",
        "# Draw the heatmap with the mask and correct aspect ratio\n",
        "sn.heatmap(corr, mask=mask, cmap=cmap, vmax=.3, center=0,\n",
        "            square=True, linewidths=.5, cbar_kws={\"shrink\": .5})"
      ],
      "execution_count": 22,
      "outputs": [
        {
          "output_type": "execute_result",
          "data": {
            "text/plain": [
              "<matplotlib.axes._subplots.AxesSubplot at 0x7fe028581e90>"
            ]
          },
          "metadata": {},
          "execution_count": 22
        },
        {
          "output_type": "display_data",
          "data": {
            "image/png": "[encoded data removed]",
            "text/plain": [
              "<Figure size 864x864 with 2 Axes>"
            ]
          },
          "metadata": {
            "needs_background": "light"
          }
        }
      ]
    },
    {
      "cell_type": "markdown",
      "metadata": {
        "id": "mNDmeuvlVdYI"
      },
      "source": [
        "### Train and test data split using Python\n",
        "\n",
        "The train and test split can also be done using the **sklearn module**"
      ]
    },
    {
      "cell_type": "code",
      "metadata": {
        "id": "vZWmElqgVdYJ"
      },
      "source": [
        "from sklearn.model_selection import train_test_split\n",
        "\n",
        "X_train, X_test, y_train, y_test = train_test_split( X, Y, test_size = 0.2, random_state = 42)"
      ],
      "execution_count": 23,
      "outputs": []
    },
    {
      "cell_type": "markdown",
      "metadata": {
        "id": "F661zuCyVdYL"
      },
      "source": [
        "In case there is class imbalance, the below code chunk can be used to remove the class imbalance before any algorithm is tried."
      ]
    },
    {
      "cell_type": "code",
      "metadata": {
        "id": "1X9m85eBVdYM"
      },
      "source": [
        "\"\"\"\n",
        "In case there is class imbalance, the below code chunk can be used to remove the class \n",
        "imbalance before any algorithm is tried.\n",
        "\"\"\"\n",
        "\n",
        "#from imblearn.over_sampling import SMOTE\n",
        "\n",
        "#os = SMOTE(random_state=42)\n",
        "\n",
        "#columns = X_train.columns\n",
        "#os_data_X,os_data_y=os.fit_sample(X_train, y_train)\n",
        "#os_data_X = pd.DataFrame(data=os_data_X,columns=columns )\n",
        "#os_data_y= pd.DataFrame(data=os_data_y,columns=['y'])\n",
        "\n",
        "# we can Check the numbers of our data\n",
        "#print(\"length of oversampled data is \",len(os_data_X))\n",
        "#print(\"Number of negative class in oversampled data\",len(os_data_y[os_data_y['y']==0]))\n",
        "#print(\"Number of positive class\",len(os_data_y[os_data_y['y']==1]))\n",
        "#print(\"Proportion of negative class in the oversampled data is \",len(os_data_y[os_data_y['y']==0])/len(os_data_X))\n",
        "#print(\"Proportion of positive class in oversampled data is \",len(os_data_y[os_data_y['y']==1])/len(os_data_X))"
      ],
      "execution_count": null,
      "outputs": []
    },
    {
      "cell_type": "markdown",
      "metadata": {
        "id": "2oH1E_AwVdYO"
      },
      "source": [
        "## Model Building: Using the **sklearn** \n",
        "\n"
      ]
    },
    {
      "cell_type": "code",
      "metadata": {
        "id": "kj-6A-xsVdYP"
      },
      "source": [
        "from sklearn import linear_model #linear_model, ensemble, neural_network, naive bayes, svm, tree\n",
        "#dir(linear_model)"
      ],
      "execution_count": 24,
      "outputs": []
    },
    {
      "cell_type": "code",
      "metadata": {
        "id": "4lVvJ5OXhNT8",
        "outputId": "f0c37ccc-0418-4090-c4a0-d510ab6d1c1c",
        "colab": {
          "base_uri": "https://localhost:8080/"
        }
      },
      "source": [
        "dir(linear_model)"
      ],
      "execution_count": 25,
      "outputs": [
        {
          "output_type": "execute_result",
          "data": {
            "text/plain": [
              "['ARDRegression',\n",
              " 'BayesianRidge',\n",
              " 'ElasticNet',\n",
              " 'ElasticNetCV',\n",
              " 'Hinge',\n",
              " 'Huber',\n",
              " 'HuberRegressor',\n",
              " 'Lars',\n",
              " 'LarsCV',\n",
              " 'Lasso',\n",
              " 'LassoCV',\n",
              " 'LassoLars',\n",
              " 'LassoLarsCV',\n",
              " 'LassoLarsIC',\n",
              " 'LinearRegression',\n",
              " 'Log',\n",
              " 'LogisticRegression',\n",
              " 'LogisticRegressionCV',\n",
              " 'ModifiedHuber',\n",
              " 'MultiTaskElasticNet',\n",
              " 'MultiTaskElasticNetCV',\n",
              " 'MultiTaskLasso',\n",
              " 'MultiTaskLassoCV',\n",
              " 'OrthogonalMatchingPursuit',\n",
              " 'OrthogonalMatchingPursuitCV',\n",
              " 'PassiveAggressiveClassifier',\n",
              " 'PassiveAggressiveRegressor',\n",
              " 'Perceptron',\n",
              " 'RANSACRegressor',\n",
              " 'Ridge',\n",
              " 'RidgeCV',\n",
              " 'RidgeClassifier',\n",
              " 'RidgeClassifierCV',\n",
              " 'SGDClassifier',\n",
              " 'SGDRegressor',\n",
              " 'SquaredLoss',\n",
              " 'TheilSenRegressor',\n",
              " '__all__',\n",
              " '__builtins__',\n",
              " '__cached__',\n",
              " '__doc__',\n",
              " '__file__',\n",
              " '__loader__',\n",
              " '__name__',\n",
              " '__package__',\n",
              " '__path__',\n",
              " '__spec__',\n",
              " '_base',\n",
              " '_bayes',\n",
              " '_cd_fast',\n",
              " '_coordinate_descent',\n",
              " '_huber',\n",
              " '_least_angle',\n",
              " '_logistic',\n",
              " '_omp',\n",
              " '_passive_aggressive',\n",
              " '_perceptron',\n",
              " '_ransac',\n",
              " '_ridge',\n",
              " '_sag',\n",
              " '_sag_fast',\n",
              " '_sgd_fast',\n",
              " '_stochastic_gradient',\n",
              " '_theil_sen',\n",
              " 'enet_path',\n",
              " 'lars_path',\n",
              " 'lars_path_gram',\n",
              " 'lasso_path',\n",
              " 'logistic_regression_path',\n",
              " 'orthogonal_mp',\n",
              " 'orthogonal_mp_gram',\n",
              " 'ridge_regression']"
            ]
          },
          "metadata": {},
          "execution_count": 25
        }
      ]
    },
    {
      "cell_type": "code",
      "metadata": {
        "Rmd_chunk_options": "caretModel, echo=TRUE, message=FALSE, warning=FALSE",
        "autoscroll": false,
        "scrolled": false,
        "id": "E_F2X40xVdYT",
        "colab": {
          "base_uri": "https://localhost:8080/",
          "height": 119
        },
        "outputId": "cbb9a1b3-9916-406a-fb1a-c59651d5870e"
      },
      "source": [
        "\"\"\" \n",
        "using the ravel function to convert the y_train which is a column vector to \n",
        "a flattened array. Being done as the function expects an array to be passed. \n",
        "\"\"\"\n",
        "#linear_model.LogisticRegressionCV?\n",
        "\n",
        "lg_reg_model = linear_model.LogisticRegression(penalty=\"l1\", solver = 'liblinear' )\n",
        "\n",
        "lg_reg_model.fit(X_train,y_train.values.ravel())"
      ],
      "execution_count": 26,
      "outputs": [
        {
          "output_type": "execute_result",
          "data": {
            "application/vnd.google.colaboratory.intrinsic+json": {
              "type": "string"
            },
            "text/plain": [
              "' \\nusing the ravel function to convert the y_train which is a column vector to \\na flattened array. Being done as the function expects an array to be passed. \\n'"
            ]
          },
          "metadata": {},
          "execution_count": 26
        },
        {
          "output_type": "execute_result",
          "data": {
            "text/plain": [
              "LogisticRegression(C=1.0, class_weight=None, dual=False, fit_intercept=True,\n",
              "                   intercept_scaling=1, l1_ratio=None, max_iter=100,\n",
              "                   multi_class='auto', n_jobs=None, penalty='l1',\n",
              "                   random_state=None, solver='liblinear', tol=0.0001, verbose=0,\n",
              "                   warm_start=False)"
            ]
          },
          "metadata": {},
          "execution_count": 26
        }
      ]
    },
    {
      "cell_type": "markdown",
      "metadata": {
        "id": "NGatczFbVdYX"
      },
      "source": [
        "For more information on the solver parameter, refer:\n",
        "\n",
        "> 1. LIBLINEAR – A Library for Large Linear Classification: https://www.csie.ntu.edu.tw/~cjlin/liblinear/\n",
        "2. SAG – Mark Schmidt, Nicolas Le Roux, and Francis Bach\n",
        "    Minimizing Finite Sums with the Stochastic Average Gradient https://hal.inria.fr/hal-00860051/document\n",
        "3. SAGA – Defazio, A., Bach F. & Lacoste-Julien S. (2014).\n",
        "    SAGA: A Fast Incremental Gradient Method With Support for Non-Strongly Convex Composite Objectives https://arxiv.org/abs/1407.0202\n",
        "4. Hsiang-Fu Yu, Fang-Lan Huang, Chih-Jen Lin (2011). Dual coordinate descent\n",
        "    methods for logistic regression and maximum entropy models. Machine Learning 85(1-2):41-75. https://www.csie.ntu.edu.tw/~cjlin/papers/maxent_dual.pdf\n",
        "\n",
        "\n",
        "More on logisticRegression at: https://scikit-learn.org/stable/modules/generated/sklearn.linear_model.LogisticRegression.html#sklearn.linear_model.LogisticRegression"
      ]
    },
    {
      "cell_type": "markdown",
      "metadata": {
        "id": "__Fh7gesVdYY"
      },
      "source": [
        "## Model Evaluation\n"
      ]
    },
    {
      "cell_type": "markdown",
      "metadata": {
        "id": "nGjPQpQMVdYZ"
      },
      "source": [
        "### The prediction on train data.\n",
        "\n",
        "To predict the outcome on the **train set**\n",
        "> * Use **predict** function of the model object \n"
      ]
    },
    {
      "cell_type": "code",
      "metadata": {
        "Rmd_chunk_options": "caretVarImp, echo=TRUE",
        "autoscroll": false,
        "scrolled": false,
        "id": "qsjz4yonVdYa",
        "colab": {
          "base_uri": "https://localhost:8080/",
          "height": 203
        },
        "outputId": "831b6e0f-bd01-4e33-e01f-c47b060f4597"
      },
      "source": [
        "# Make predictions using the testing set\n",
        "#pd.options.display.max_rows = None\n",
        "\n",
        "predict_class_train_df = pd.DataFrame(lg_reg_model.predict(X_train))\n",
        "predict_class_train_df.head()\n",
        "\n",
        "predict_porb_train_df = pd.DataFrame(lg_reg_model.predict_proba(X_train))\n",
        "#predict_porb_train_df.iloc[:,:].head()\n"
      ],
      "execution_count": 27,
      "outputs": [
        {
          "output_type": "execute_result",
          "data": {
            "text/html": [
              "<div>\n",
              "<style scoped>\n",
              "    .dataframe tbody tr th:only-of-type {\n",
              "        vertical-align: middle;\n",
              "    }\n",
              "\n",
              "    .dataframe tbody tr th {\n",
              "        vertical-align: top;\n",
              "    }\n",
              "\n",
              "    .dataframe thead th {\n",
              "        text-align: right;\n",
              "    }\n",
              "</style>\n",
              "<table border=\"1\" class=\"dataframe\">\n",
              "  <thead>\n",
              "    <tr style=\"text-align: right;\">\n",
              "      <th></th>\n",
              "      <th>0</th>\n",
              "    </tr>\n",
              "  </thead>\n",
              "  <tbody>\n",
              "    <tr>\n",
              "      <th>0</th>\n",
              "      <td>0</td>\n",
              "    </tr>\n",
              "    <tr>\n",
              "      <th>1</th>\n",
              "      <td>0</td>\n",
              "    </tr>\n",
              "    <tr>\n",
              "      <th>2</th>\n",
              "      <td>0</td>\n",
              "    </tr>\n",
              "    <tr>\n",
              "      <th>3</th>\n",
              "      <td>0</td>\n",
              "    </tr>\n",
              "    <tr>\n",
              "      <th>4</th>\n",
              "      <td>0</td>\n",
              "    </tr>\n",
              "  </tbody>\n",
              "</table>\n",
              "</div>"
            ],
            "text/plain": [
              "   0\n",
              "0  0\n",
              "1  0\n",
              "2  0\n",
              "3  0\n",
              "4  0"
            ]
          },
          "metadata": {},
          "execution_count": 27
        }
      ]
    },
    {
      "cell_type": "markdown",
      "metadata": {
        "id": "4LP_KPDxVdYc"
      },
      "source": [
        "### The prediction on test data.\n",
        "\n",
        "The prediction can be carried out by **defining functions** as well. Below is one such instance wherein a function is defined and is used for prediction"
      ]
    },
    {
      "cell_type": "code",
      "metadata": {
        "Rmd_chunk_options": "caretPrediction, echo=TRUE",
        "autoscroll": false,
        "id": "-3sEmdEbVdYd"
      },
      "source": [
        "def get_predictions ( test_class, model, test_data ):\n",
        "    predicted_df = pd.DataFrame(model.predict_proba(test_data))\n",
        "    y_pred_df = pd.concat([test_class.reset_index(drop=True), predicted_df.iloc[:,1:]], axis =1)\n",
        "    return y_pred_df"
      ],
      "execution_count": 28,
      "outputs": []
    },
    {
      "cell_type": "markdown",
      "metadata": {
        "id": "LiYaJX6JVdYf"
      },
      "source": [
        "Giving label to the Y column of the test set by using the dictionary data type in python. This is being done for the model which was built using dummy variable coding. It will be used to generate confusion matrix at a later time"
      ]
    },
    {
      "cell_type": "code",
      "metadata": {
        "scrolled": true,
        "id": "TuAYL3wzVdYj"
      },
      "source": [
        "test_series = y_test\n",
        "train_series = y_train\n",
        "\n",
        "raint_dict = {1:\"Yes\", 0:\"No\"}\n",
        "class_test_df = test_series.replace(dict(Yes=raint_dict))\n",
        "class_test_df.rename({'Yes': 'raint'}, axis='columns', inplace=True )\n",
        "\n",
        "class_train_df = train_series.replace(dict(Yes=raint_dict))\n",
        "class_train_df.rename({'Yes': 'raint'}, axis='columns', inplace=True )\n",
        "\n",
        "#class_test_df.info()\n",
        "#class_train_df.info()"
      ],
      "execution_count": 29,
      "outputs": []
    },
    {
      "cell_type": "code",
      "metadata": {
        "scrolled": true,
        "id": "QQi6sYpxVdYn",
        "colab": {
          "base_uri": "https://localhost:8080/",
          "height": 203
        },
        "outputId": "16faace4-9865-4268-e38c-0a7b291e304a"
      },
      "source": [
        "predict_test_df = pd.DataFrame(get_predictions(class_test_df.raint, lg_reg_model, X_test))\n",
        "predict_test_df.rename(columns = {1:'predicted_prob'}, inplace=True)\n",
        "predict_test_df.head()"
      ],
      "execution_count": 30,
      "outputs": [
        {
          "output_type": "execute_result",
          "data": {
            "text/html": [
              "<div>\n",
              "<style scoped>\n",
              "    .dataframe tbody tr th:only-of-type {\n",
              "        vertical-align: middle;\n",
              "    }\n",
              "\n",
              "    .dataframe tbody tr th {\n",
              "        vertical-align: top;\n",
              "    }\n",
              "\n",
              "    .dataframe thead th {\n",
              "        text-align: right;\n",
              "    }\n",
              "</style>\n",
              "<table border=\"1\" class=\"dataframe\">\n",
              "  <thead>\n",
              "    <tr style=\"text-align: right;\">\n",
              "      <th></th>\n",
              "      <th>raint</th>\n",
              "      <th>predicted_prob</th>\n",
              "    </tr>\n",
              "  </thead>\n",
              "  <tbody>\n",
              "    <tr>\n",
              "      <th>0</th>\n",
              "      <td>Yes</td>\n",
              "      <td>0.757737</td>\n",
              "    </tr>\n",
              "    <tr>\n",
              "      <th>1</th>\n",
              "      <td>Yes</td>\n",
              "      <td>0.019201</td>\n",
              "    </tr>\n",
              "    <tr>\n",
              "      <th>2</th>\n",
              "      <td>No</td>\n",
              "      <td>0.285256</td>\n",
              "    </tr>\n",
              "    <tr>\n",
              "      <th>3</th>\n",
              "      <td>No</td>\n",
              "      <td>0.018672</td>\n",
              "    </tr>\n",
              "    <tr>\n",
              "      <th>4</th>\n",
              "      <td>No</td>\n",
              "      <td>0.062930</td>\n",
              "    </tr>\n",
              "  </tbody>\n",
              "</table>\n",
              "</div>"
            ],
            "text/plain": [
              "  raint  predicted_prob\n",
              "0   Yes        0.757737\n",
              "1   Yes        0.019201\n",
              "2    No        0.285256\n",
              "3    No        0.018672\n",
              "4    No        0.062930"
            ]
          },
          "metadata": {},
          "execution_count": 30
        }
      ]
    },
    {
      "cell_type": "code",
      "metadata": {
        "id": "wE7SZDRDVdYq",
        "colab": {
          "base_uri": "https://localhost:8080/",
          "height": 357
        },
        "outputId": "83601871-d90e-48bf-bd43-d1ace4b5bae6"
      },
      "source": [
        "predict_test_df['predicted'] = predict_test_df.predicted_prob.map(lambda x: 'Yes' if x > 0.5 else 'No')\n",
        "predict_test_df[0:10]"
      ],
      "execution_count": 31,
      "outputs": [
        {
          "output_type": "execute_result",
          "data": {
            "text/html": [
              "<div>\n",
              "<style scoped>\n",
              "    .dataframe tbody tr th:only-of-type {\n",
              "        vertical-align: middle;\n",
              "    }\n",
              "\n",
              "    .dataframe tbody tr th {\n",
              "        vertical-align: top;\n",
              "    }\n",
              "\n",
              "    .dataframe thead th {\n",
              "        text-align: right;\n",
              "    }\n",
              "</style>\n",
              "<table border=\"1\" class=\"dataframe\">\n",
              "  <thead>\n",
              "    <tr style=\"text-align: right;\">\n",
              "      <th></th>\n",
              "      <th>raint</th>\n",
              "      <th>predicted_prob</th>\n",
              "      <th>predicted</th>\n",
              "    </tr>\n",
              "  </thead>\n",
              "  <tbody>\n",
              "    <tr>\n",
              "      <th>0</th>\n",
              "      <td>Yes</td>\n",
              "      <td>0.757737</td>\n",
              "      <td>Yes</td>\n",
              "    </tr>\n",
              "    <tr>\n",
              "      <th>1</th>\n",
              "      <td>Yes</td>\n",
              "      <td>0.019201</td>\n",
              "      <td>No</td>\n",
              "    </tr>\n",
              "    <tr>\n",
              "      <th>2</th>\n",
              "      <td>No</td>\n",
              "      <td>0.285256</td>\n",
              "      <td>No</td>\n",
              "    </tr>\n",
              "    <tr>\n",
              "      <th>3</th>\n",
              "      <td>No</td>\n",
              "      <td>0.018672</td>\n",
              "      <td>No</td>\n",
              "    </tr>\n",
              "    <tr>\n",
              "      <th>4</th>\n",
              "      <td>No</td>\n",
              "      <td>0.062930</td>\n",
              "      <td>No</td>\n",
              "    </tr>\n",
              "    <tr>\n",
              "      <th>5</th>\n",
              "      <td>No</td>\n",
              "      <td>0.083347</td>\n",
              "      <td>No</td>\n",
              "    </tr>\n",
              "    <tr>\n",
              "      <th>6</th>\n",
              "      <td>No</td>\n",
              "      <td>0.103619</td>\n",
              "      <td>No</td>\n",
              "    </tr>\n",
              "    <tr>\n",
              "      <th>7</th>\n",
              "      <td>No</td>\n",
              "      <td>0.079767</td>\n",
              "      <td>No</td>\n",
              "    </tr>\n",
              "    <tr>\n",
              "      <th>8</th>\n",
              "      <td>No</td>\n",
              "      <td>0.055638</td>\n",
              "      <td>No</td>\n",
              "    </tr>\n",
              "    <tr>\n",
              "      <th>9</th>\n",
              "      <td>No</td>\n",
              "      <td>0.385471</td>\n",
              "      <td>No</td>\n",
              "    </tr>\n",
              "  </tbody>\n",
              "</table>\n",
              "</div>"
            ],
            "text/plain": [
              "  raint  predicted_prob predicted\n",
              "0   Yes        0.757737       Yes\n",
              "1   Yes        0.019201        No\n",
              "2    No        0.285256        No\n",
              "3    No        0.018672        No\n",
              "4    No        0.062930        No\n",
              "5    No        0.083347        No\n",
              "6    No        0.103619        No\n",
              "7    No        0.079767        No\n",
              "8    No        0.055638        No\n",
              "9    No        0.385471        No"
            ]
          },
          "metadata": {},
          "execution_count": 31
        }
      ]
    },
    {
      "cell_type": "markdown",
      "metadata": {
        "id": "CRoUO-W9VdYt"
      },
      "source": [
        "### Confusion Matrix\n",
        "\n",
        "We will built classification matrix using the **metrics** method from **sklearn** package. We will also write a custom function to build a classification matrix and use it for reporting the performance measures.\n",
        "\n",
        "#### Confusion Matrix using sklearn"
      ]
    },
    {
      "cell_type": "code",
      "metadata": {
        "id": "Onnh9gedVdYu"
      },
      "source": [
        "from sklearn import metrics\n",
        "from sklearn.metrics import confusion_matrix\n",
        "from sklearn.metrics import classification_report"
      ],
      "execution_count": 32,
      "outputs": []
    },
    {
      "cell_type": "code",
      "metadata": {
        "scrolled": true,
        "id": "fNIF1K4HVdYx",
        "colab": {
          "base_uri": "https://localhost:8080/"
        },
        "outputId": "33338eab-fa95-47b2-c1c6-f601af94f6fe"
      },
      "source": [
        "print(\"The model with dummy variable coding output: \")\n",
        "confusion_matrix(class_test_df.raint, predict_test_df.predicted)\n",
        "lg_reg_report = (classification_report(class_test_df, predict_test_df.predicted))\n",
        "print(lg_reg_report)\n"
      ],
      "execution_count": 33,
      "outputs": [
        {
          "output_type": "stream",
          "name": "stdout",
          "text": [
            "The model with dummy variable coding output: \n"
          ]
        },
        {
          "output_type": "execute_result",
          "data": {
            "text/plain": [
              "array([[18198,   964],\n",
              "       [ 2989,  2515]])"
            ]
          },
          "metadata": {},
          "execution_count": 33
        },
        {
          "output_type": "stream",
          "name": "stdout",
          "text": [
            "              precision    recall  f1-score   support\n",
            "\n",
            "          No       0.86      0.95      0.90     19162\n",
            "         Yes       0.72      0.46      0.56      5504\n",
            "\n",
            "    accuracy                           0.84     24666\n",
            "   macro avg       0.79      0.70      0.73     24666\n",
            "weighted avg       0.83      0.84      0.83     24666\n",
            "\n"
          ]
        }
      ]
    },
    {
      "cell_type": "markdown",
      "metadata": {
        "id": "rITExwSIVdYz"
      },
      "source": [
        "#### Confusion Matrix using generic function"
      ]
    },
    {
      "cell_type": "code",
      "metadata": {
        "id": "u2JQN9n3VdY0"
      },
      "source": [
        "def draw_cm( actual, predicted ):\n",
        "    plt.figure(figsize=(9,9))\n",
        "    cm = metrics.confusion_matrix( actual, predicted )\n",
        "    sn.heatmap(cm, annot=True,  fmt='.0f', xticklabels = [\"Yes\", \"No\"] , \n",
        "               yticklabels = [\"Yes\", \"No\"],cmap = 'Blues_r')\n",
        "    plt.ylabel('Actual')\n",
        "    plt.xlabel('Predicted')\n",
        "    plt.title('Classification Matrix Plot', size = 15);\n",
        "    plt.show()"
      ],
      "execution_count": 34,
      "outputs": []
    },
    {
      "cell_type": "markdown",
      "metadata": {
        "id": "cp5yDIwMVdY2"
      },
      "source": [
        "The classification matrix plot as reported with dummy variable coding is:"
      ]
    },
    {
      "cell_type": "code",
      "metadata": {
        "id": "UeoUXyJAVdY2",
        "colab": {
          "base_uri": "https://localhost:8080/",
          "height": 569
        },
        "outputId": "e529ce22-98c4-4028-af79-c41698d25410"
      },
      "source": [
        "draw_cm( predict_test_df.raint, predict_test_df.predicted )"
      ],
      "execution_count": 35,
      "outputs": [
        {
          "output_type": "display_data",
          "data": {
            "image/png": "[encoded data removed]",
            "text/plain": [
              "<Figure size 648x648 with 2 Axes>"
            ]
          },
          "metadata": {
            "needs_background": "light"
          }
        }
      ]
    },
    {
      "cell_type": "markdown",
      "metadata": {
        "id": "lEZo271gVdY6"
      },
      "source": [
        "**Performance Measure on the test set**\n"
      ]
    },
    {
      "cell_type": "code",
      "metadata": {
        "id": "rusnNkDlVdY7"
      },
      "source": [
        "def measure_performance (clasf_matrix):\n",
        "    measure = pd.DataFrame({\n",
        "                        'sensitivity': [round(clasf_matrix[0,0]/(clasf_matrix[0,0]+clasf_matrix[0,1]),2)], \n",
        "                        'specificity': [round(clasf_matrix[1,1]/(clasf_matrix[1,0]+clasf_matrix[1,1]),2)],\n",
        "                        'recall': [round(clasf_matrix[0,0]/(clasf_matrix[0,0]+clasf_matrix[0,1]),2)],\n",
        "                        'precision': [round(clasf_matrix[0,0]/(clasf_matrix[0,0]+clasf_matrix[1,0]),2)],\n",
        "                        'overall_acc': [round((clasf_matrix[0,0]+clasf_matrix[1,1])/\n",
        "                                              (clasf_matrix[0,0]+clasf_matrix[0,1]+clasf_matrix[1,0]+clasf_matrix[1,1]),2)]\n",
        "                       })\n",
        "    return measure"
      ],
      "execution_count": 36,
      "outputs": []
    },
    {
      "cell_type": "code",
      "metadata": {
        "id": "vjh1LeHfVdZA",
        "colab": {
          "base_uri": "https://localhost:8080/",
          "height": 97
        },
        "outputId": "5c1fbef2-dba5-4c8a-ba3b-ee40ec9bb0b9"
      },
      "source": [
        "cm = metrics.confusion_matrix(predict_test_df.raint, predict_test_df.predicted)\n",
        "\n",
        "lg_reg_metrics_df = pd.DataFrame(measure_performance(cm))\n",
        "lg_reg_metrics_df\n",
        "\n",
        "print( 'Total Accuracy sklearn: ',np.round( metrics.accuracy_score( class_test_df.raint, predict_test_df.predicted ), 2 ))\n",
        "\n"
      ],
      "execution_count": 37,
      "outputs": [
        {
          "output_type": "execute_result",
          "data": {
            "text/html": [
              "<div>\n",
              "<style scoped>\n",
              "    .dataframe tbody tr th:only-of-type {\n",
              "        vertical-align: middle;\n",
              "    }\n",
              "\n",
              "    .dataframe tbody tr th {\n",
              "        vertical-align: top;\n",
              "    }\n",
              "\n",
              "    .dataframe thead th {\n",
              "        text-align: right;\n",
              "    }\n",
              "</style>\n",
              "<table border=\"1\" class=\"dataframe\">\n",
              "  <thead>\n",
              "    <tr style=\"text-align: right;\">\n",
              "      <th></th>\n",
              "      <th>sensitivity</th>\n",
              "      <th>specificity</th>\n",
              "      <th>recall</th>\n",
              "      <th>precision</th>\n",
              "      <th>overall_acc</th>\n",
              "    </tr>\n",
              "  </thead>\n",
              "  <tbody>\n",
              "    <tr>\n",
              "      <th>0</th>\n",
              "      <td>0.95</td>\n",
              "      <td>0.46</td>\n",
              "      <td>0.95</td>\n",
              "      <td>0.86</td>\n",
              "      <td>0.84</td>\n",
              "    </tr>\n",
              "  </tbody>\n",
              "</table>\n",
              "</div>"
            ],
            "text/plain": [
              "   sensitivity  specificity  recall  precision  overall_acc\n",
              "0         0.95         0.46    0.95       0.86         0.84"
            ]
          },
          "metadata": {},
          "execution_count": 37
        },
        {
          "output_type": "stream",
          "name": "stdout",
          "text": [
            "Total Accuracy sklearn:  0.84\n"
          ]
        }
      ]
    }
  ]
}